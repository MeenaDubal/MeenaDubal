{
 "cells": [
  {
   "cell_type": "code",
   "execution_count": 1,
   "id": "bfba57c3",
   "metadata": {},
   "outputs": [],
   "source": [
    "import numpy as np \n",
    "import pandas as pd \n",
    "import seaborn as sns\n",
    "import matplotlib.pyplot as plt\n",
    "%matplotlib inline\n",
    "import warnings\n",
    "warnings.filterwarnings(\"ignore\")\n",
    "from scipy.stats import ttest_ind, ttest_rel\n",
    "from scipy import stats"
   ]
  },
  {
   "cell_type": "code",
   "execution_count": 2,
   "id": "63ffc5c2",
   "metadata": {},
   "outputs": [
    {
     "name": "stdout",
     "output_type": "stream",
     "text": [
      "conda-repo-cli 1.0.41 requires requests-mock, which is not installed.Note: you may need to restart the kernel to use updated packages.\n",
      "\n",
      "gensim 4.3.0 requires fuzzytm, which is not installed.\n",
      "tables 3.8.0 requires blosc2, which is not installed.\n",
      "tables 3.8.0 requires cython, which is not installed.\n",
      "transformers 2.1.1 requires sentencepiece, which is not installed.\n",
      "conda-repo-cli 1.0.41 has requirement clyent==1.2.1, but you have clyent 1.2.2.\n",
      "conda-repo-cli 1.0.41 has requirement nbformat==5.4.0, but you have nbformat 5.7.0.\n",
      "conda-repo-cli 1.0.41 has requirement requests==2.28.1, but you have requests 2.31.0.\n",
      "python-lsp-black 1.2.1 has requirement black>=22.3.0, but you have black 0.0.\n",
      "python-lsp-server 1.7.2 has requirement jedi<0.19.0,>=0.17.2, but you have jedi 0.19.0.\n",
      "spyder 5.4.3 has requirement jedi<0.19.0,>=0.17.2, but you have jedi 0.19.0.\n"
     ]
    }
   ],
   "source": [
    "pip check"
   ]
  },
  {
   "cell_type": "markdown",
   "id": "202da17d",
   "metadata": {},
   "source": [
    "##  Import data"
   ]
  },
  {
   "cell_type": "code",
   "execution_count": 3,
   "id": "766b3d26",
   "metadata": {},
   "outputs": [
    {
     "data": {
      "text/html": [
       "<div>\n",
       "<style scoped>\n",
       "    .dataframe tbody tr th:only-of-type {\n",
       "        vertical-align: middle;\n",
       "    }\n",
       "\n",
       "    .dataframe tbody tr th {\n",
       "        vertical-align: top;\n",
       "    }\n",
       "\n",
       "    .dataframe thead th {\n",
       "        text-align: right;\n",
       "    }\n",
       "</style>\n",
       "<table border=\"1\" class=\"dataframe\">\n",
       "  <thead>\n",
       "    <tr style=\"text-align: right;\">\n",
       "      <th></th>\n",
       "      <th>Store</th>\n",
       "      <th>Date</th>\n",
       "      <th>Weekly_Sales</th>\n",
       "      <th>Holiday_Flag</th>\n",
       "      <th>Temperature</th>\n",
       "      <th>Fuel_Price</th>\n",
       "      <th>CPI</th>\n",
       "      <th>Unemployment</th>\n",
       "    </tr>\n",
       "  </thead>\n",
       "  <tbody>\n",
       "    <tr>\n",
       "      <th>0</th>\n",
       "      <td>1</td>\n",
       "      <td>05-02-2010</td>\n",
       "      <td>1643690.90</td>\n",
       "      <td>0</td>\n",
       "      <td>42.31</td>\n",
       "      <td>2.572</td>\n",
       "      <td>211.096358</td>\n",
       "      <td>8.106</td>\n",
       "    </tr>\n",
       "    <tr>\n",
       "      <th>1</th>\n",
       "      <td>1</td>\n",
       "      <td>12-02-2010</td>\n",
       "      <td>1641957.44</td>\n",
       "      <td>1</td>\n",
       "      <td>38.51</td>\n",
       "      <td>2.548</td>\n",
       "      <td>211.242170</td>\n",
       "      <td>8.106</td>\n",
       "    </tr>\n",
       "    <tr>\n",
       "      <th>2</th>\n",
       "      <td>1</td>\n",
       "      <td>19-02-2010</td>\n",
       "      <td>1611968.17</td>\n",
       "      <td>0</td>\n",
       "      <td>39.93</td>\n",
       "      <td>2.514</td>\n",
       "      <td>211.289143</td>\n",
       "      <td>8.106</td>\n",
       "    </tr>\n",
       "    <tr>\n",
       "      <th>3</th>\n",
       "      <td>1</td>\n",
       "      <td>26-02-2010</td>\n",
       "      <td>1409727.59</td>\n",
       "      <td>0</td>\n",
       "      <td>46.63</td>\n",
       "      <td>2.561</td>\n",
       "      <td>211.319643</td>\n",
       "      <td>8.106</td>\n",
       "    </tr>\n",
       "    <tr>\n",
       "      <th>4</th>\n",
       "      <td>1</td>\n",
       "      <td>05-03-2010</td>\n",
       "      <td>1554806.68</td>\n",
       "      <td>0</td>\n",
       "      <td>46.50</td>\n",
       "      <td>2.625</td>\n",
       "      <td>211.350143</td>\n",
       "      <td>8.106</td>\n",
       "    </tr>\n",
       "    <tr>\n",
       "      <th>5</th>\n",
       "      <td>1</td>\n",
       "      <td>12-03-2010</td>\n",
       "      <td>1439541.59</td>\n",
       "      <td>0</td>\n",
       "      <td>57.79</td>\n",
       "      <td>2.667</td>\n",
       "      <td>211.380643</td>\n",
       "      <td>8.106</td>\n",
       "    </tr>\n",
       "    <tr>\n",
       "      <th>6</th>\n",
       "      <td>1</td>\n",
       "      <td>19-03-2010</td>\n",
       "      <td>1472515.79</td>\n",
       "      <td>0</td>\n",
       "      <td>54.58</td>\n",
       "      <td>2.720</td>\n",
       "      <td>211.215635</td>\n",
       "      <td>8.106</td>\n",
       "    </tr>\n",
       "    <tr>\n",
       "      <th>7</th>\n",
       "      <td>1</td>\n",
       "      <td>26-03-2010</td>\n",
       "      <td>1404429.92</td>\n",
       "      <td>0</td>\n",
       "      <td>51.45</td>\n",
       "      <td>2.732</td>\n",
       "      <td>211.018042</td>\n",
       "      <td>8.106</td>\n",
       "    </tr>\n",
       "    <tr>\n",
       "      <th>8</th>\n",
       "      <td>1</td>\n",
       "      <td>02-04-2010</td>\n",
       "      <td>1594968.28</td>\n",
       "      <td>0</td>\n",
       "      <td>62.27</td>\n",
       "      <td>2.719</td>\n",
       "      <td>210.820450</td>\n",
       "      <td>7.808</td>\n",
       "    </tr>\n",
       "    <tr>\n",
       "      <th>9</th>\n",
       "      <td>1</td>\n",
       "      <td>09-04-2010</td>\n",
       "      <td>1545418.53</td>\n",
       "      <td>0</td>\n",
       "      <td>65.86</td>\n",
       "      <td>2.770</td>\n",
       "      <td>210.622857</td>\n",
       "      <td>7.808</td>\n",
       "    </tr>\n",
       "    <tr>\n",
       "      <th>10</th>\n",
       "      <td>1</td>\n",
       "      <td>16-04-2010</td>\n",
       "      <td>1466058.28</td>\n",
       "      <td>0</td>\n",
       "      <td>66.32</td>\n",
       "      <td>2.808</td>\n",
       "      <td>210.488700</td>\n",
       "      <td>7.808</td>\n",
       "    </tr>\n",
       "    <tr>\n",
       "      <th>11</th>\n",
       "      <td>1</td>\n",
       "      <td>23-04-2010</td>\n",
       "      <td>1391256.12</td>\n",
       "      <td>0</td>\n",
       "      <td>64.84</td>\n",
       "      <td>2.795</td>\n",
       "      <td>210.439123</td>\n",
       "      <td>7.808</td>\n",
       "    </tr>\n",
       "    <tr>\n",
       "      <th>12</th>\n",
       "      <td>1</td>\n",
       "      <td>30-04-2010</td>\n",
       "      <td>1425100.71</td>\n",
       "      <td>0</td>\n",
       "      <td>67.41</td>\n",
       "      <td>2.780</td>\n",
       "      <td>210.389546</td>\n",
       "      <td>7.808</td>\n",
       "    </tr>\n",
       "    <tr>\n",
       "      <th>13</th>\n",
       "      <td>1</td>\n",
       "      <td>07-05-2010</td>\n",
       "      <td>1603955.12</td>\n",
       "      <td>0</td>\n",
       "      <td>72.55</td>\n",
       "      <td>2.835</td>\n",
       "      <td>210.339968</td>\n",
       "      <td>7.808</td>\n",
       "    </tr>\n",
       "    <tr>\n",
       "      <th>14</th>\n",
       "      <td>1</td>\n",
       "      <td>14-05-2010</td>\n",
       "      <td>1494251.50</td>\n",
       "      <td>0</td>\n",
       "      <td>74.78</td>\n",
       "      <td>2.854</td>\n",
       "      <td>210.337426</td>\n",
       "      <td>7.808</td>\n",
       "    </tr>\n",
       "    <tr>\n",
       "      <th>15</th>\n",
       "      <td>1</td>\n",
       "      <td>21-05-2010</td>\n",
       "      <td>1399662.07</td>\n",
       "      <td>0</td>\n",
       "      <td>76.44</td>\n",
       "      <td>2.826</td>\n",
       "      <td>210.617093</td>\n",
       "      <td>7.808</td>\n",
       "    </tr>\n",
       "    <tr>\n",
       "      <th>16</th>\n",
       "      <td>1</td>\n",
       "      <td>28-05-2010</td>\n",
       "      <td>1432069.95</td>\n",
       "      <td>0</td>\n",
       "      <td>80.44</td>\n",
       "      <td>2.759</td>\n",
       "      <td>210.896761</td>\n",
       "      <td>7.808</td>\n",
       "    </tr>\n",
       "    <tr>\n",
       "      <th>17</th>\n",
       "      <td>1</td>\n",
       "      <td>04-06-2010</td>\n",
       "      <td>1615524.71</td>\n",
       "      <td>0</td>\n",
       "      <td>80.69</td>\n",
       "      <td>2.705</td>\n",
       "      <td>211.176428</td>\n",
       "      <td>7.808</td>\n",
       "    </tr>\n",
       "    <tr>\n",
       "      <th>18</th>\n",
       "      <td>1</td>\n",
       "      <td>11-06-2010</td>\n",
       "      <td>1542561.09</td>\n",
       "      <td>0</td>\n",
       "      <td>80.43</td>\n",
       "      <td>2.668</td>\n",
       "      <td>211.456095</td>\n",
       "      <td>7.808</td>\n",
       "    </tr>\n",
       "    <tr>\n",
       "      <th>19</th>\n",
       "      <td>1</td>\n",
       "      <td>18-06-2010</td>\n",
       "      <td>1503284.06</td>\n",
       "      <td>0</td>\n",
       "      <td>84.11</td>\n",
       "      <td>2.637</td>\n",
       "      <td>211.453772</td>\n",
       "      <td>7.808</td>\n",
       "    </tr>\n",
       "  </tbody>\n",
       "</table>\n",
       "</div>"
      ],
      "text/plain": [
       "    Store        Date  Weekly_Sales  Holiday_Flag  Temperature  Fuel_Price  \\\n",
       "0       1  05-02-2010    1643690.90             0        42.31       2.572   \n",
       "1       1  12-02-2010    1641957.44             1        38.51       2.548   \n",
       "2       1  19-02-2010    1611968.17             0        39.93       2.514   \n",
       "3       1  26-02-2010    1409727.59             0        46.63       2.561   \n",
       "4       1  05-03-2010    1554806.68             0        46.50       2.625   \n",
       "5       1  12-03-2010    1439541.59             0        57.79       2.667   \n",
       "6       1  19-03-2010    1472515.79             0        54.58       2.720   \n",
       "7       1  26-03-2010    1404429.92             0        51.45       2.732   \n",
       "8       1  02-04-2010    1594968.28             0        62.27       2.719   \n",
       "9       1  09-04-2010    1545418.53             0        65.86       2.770   \n",
       "10      1  16-04-2010    1466058.28             0        66.32       2.808   \n",
       "11      1  23-04-2010    1391256.12             0        64.84       2.795   \n",
       "12      1  30-04-2010    1425100.71             0        67.41       2.780   \n",
       "13      1  07-05-2010    1603955.12             0        72.55       2.835   \n",
       "14      1  14-05-2010    1494251.50             0        74.78       2.854   \n",
       "15      1  21-05-2010    1399662.07             0        76.44       2.826   \n",
       "16      1  28-05-2010    1432069.95             0        80.44       2.759   \n",
       "17      1  04-06-2010    1615524.71             0        80.69       2.705   \n",
       "18      1  11-06-2010    1542561.09             0        80.43       2.668   \n",
       "19      1  18-06-2010    1503284.06             0        84.11       2.637   \n",
       "\n",
       "           CPI  Unemployment  \n",
       "0   211.096358         8.106  \n",
       "1   211.242170         8.106  \n",
       "2   211.289143         8.106  \n",
       "3   211.319643         8.106  \n",
       "4   211.350143         8.106  \n",
       "5   211.380643         8.106  \n",
       "6   211.215635         8.106  \n",
       "7   211.018042         8.106  \n",
       "8   210.820450         7.808  \n",
       "9   210.622857         7.808  \n",
       "10  210.488700         7.808  \n",
       "11  210.439123         7.808  \n",
       "12  210.389546         7.808  \n",
       "13  210.339968         7.808  \n",
       "14  210.337426         7.808  \n",
       "15  210.617093         7.808  \n",
       "16  210.896761         7.808  \n",
       "17  211.176428         7.808  \n",
       "18  211.456095         7.808  \n",
       "19  211.453772         7.808  "
      ]
     },
     "execution_count": 3,
     "metadata": {},
     "output_type": "execute_result"
    }
   ],
   "source": [
    "df = pd.read_csv(\"Walmart.csv\")\n",
    "df.head(20)"
   ]
  },
  {
   "cell_type": "code",
   "execution_count": 4,
   "id": "96347400",
   "metadata": {},
   "outputs": [
    {
     "data": {
      "text/plain": [
       "array([ 1,  2,  3,  4,  5,  6,  7,  8,  9, 10, 11, 12, 13, 14, 15, 16, 17,\n",
       "       18, 19, 20, 21, 22, 23, 24, 25, 26, 27, 28, 29, 30, 31, 32, 33, 34,\n",
       "       35, 36, 37, 38, 39, 40, 41, 42, 43, 44, 45], dtype=int64)"
      ]
     },
     "execution_count": 4,
     "metadata": {},
     "output_type": "execute_result"
    }
   ],
   "source": [
    "df.Store.unique()"
   ]
  },
  {
   "cell_type": "markdown",
   "id": "9833b1aa",
   "metadata": {},
   "source": [
    "## EDA"
   ]
  },
  {
   "cell_type": "code",
   "execution_count": 5,
   "id": "a3a1989a",
   "metadata": {},
   "outputs": [
    {
     "name": "stdout",
     "output_type": "stream",
     "text": [
      "<class 'pandas.core.frame.DataFrame'>\n",
      "RangeIndex: 6435 entries, 0 to 6434\n",
      "Data columns (total 8 columns):\n",
      " #   Column        Non-Null Count  Dtype  \n",
      "---  ------        --------------  -----  \n",
      " 0   Store         6435 non-null   int64  \n",
      " 1   Date          6435 non-null   object \n",
      " 2   Weekly_Sales  6435 non-null   float64\n",
      " 3   Holiday_Flag  6435 non-null   int64  \n",
      " 4   Temperature   6435 non-null   float64\n",
      " 5   Fuel_Price    6435 non-null   float64\n",
      " 6   CPI           6435 non-null   float64\n",
      " 7   Unemployment  6435 non-null   float64\n",
      "dtypes: float64(5), int64(2), object(1)\n",
      "memory usage: 402.3+ KB\n"
     ]
    }
   ],
   "source": [
    "df.info()"
   ]
  },
  {
   "cell_type": "code",
   "execution_count": 6,
   "id": "e9988318",
   "metadata": {},
   "outputs": [],
   "source": [
    "#label encoding on the categorical columns\n",
    "from sklearn.preprocessing import LabelEncoder\n",
    "le=LabelEncoder()"
   ]
  },
  {
   "cell_type": "code",
   "execution_count": 7,
   "id": "89c01e5e",
   "metadata": {},
   "outputs": [],
   "source": [
    "df['Date'] = le.fit_transform(df['Date'])"
   ]
  },
  {
   "cell_type": "code",
   "execution_count": 8,
   "id": "8a1e0d1a",
   "metadata": {},
   "outputs": [
    {
     "data": {
      "text/plain": [
       "Store           0\n",
       "Date            0\n",
       "Weekly_Sales    0\n",
       "Holiday_Flag    0\n",
       "Temperature     0\n",
       "Fuel_Price      0\n",
       "CPI             0\n",
       "Unemployment    0\n",
       "dtype: int64"
      ]
     },
     "execution_count": 8,
     "metadata": {},
     "output_type": "execute_result"
    }
   ],
   "source": [
    "df.isnull().sum()"
   ]
  },
  {
   "cell_type": "code",
   "execution_count": 9,
   "id": "af7306a6",
   "metadata": {},
   "outputs": [
    {
     "data": {
      "text/plain": [
       "0"
      ]
     },
     "execution_count": 9,
     "metadata": {},
     "output_type": "execute_result"
    }
   ],
   "source": [
    "df.duplicated().sum()"
   ]
  },
  {
   "cell_type": "code",
   "execution_count": 9,
   "id": "2541c3e7",
   "metadata": {},
   "outputs": [
    {
     "data": {
      "text/html": [
       "<div>\n",
       "<style scoped>\n",
       "    .dataframe tbody tr th:only-of-type {\n",
       "        vertical-align: middle;\n",
       "    }\n",
       "\n",
       "    .dataframe tbody tr th {\n",
       "        vertical-align: top;\n",
       "    }\n",
       "\n",
       "    .dataframe thead th {\n",
       "        text-align: right;\n",
       "    }\n",
       "</style>\n",
       "<table border=\"1\" class=\"dataframe\">\n",
       "  <thead>\n",
       "    <tr style=\"text-align: right;\">\n",
       "      <th></th>\n",
       "      <th>Store</th>\n",
       "      <th>Date</th>\n",
       "      <th>Weekly_Sales</th>\n",
       "      <th>Holiday_Flag</th>\n",
       "      <th>Temperature</th>\n",
       "      <th>Fuel_Price</th>\n",
       "      <th>CPI</th>\n",
       "      <th>Unemployment</th>\n",
       "    </tr>\n",
       "  </thead>\n",
       "  <tbody>\n",
       "    <tr>\n",
       "      <th>count</th>\n",
       "      <td>6435.000000</td>\n",
       "      <td>6435.000000</td>\n",
       "      <td>6.435000e+03</td>\n",
       "      <td>6435.000000</td>\n",
       "      <td>6435.000000</td>\n",
       "      <td>6435.000000</td>\n",
       "      <td>6435.000000</td>\n",
       "      <td>6435.000000</td>\n",
       "    </tr>\n",
       "    <tr>\n",
       "      <th>mean</th>\n",
       "      <td>23.000000</td>\n",
       "      <td>71.000000</td>\n",
       "      <td>1.046965e+06</td>\n",
       "      <td>0.069930</td>\n",
       "      <td>60.663782</td>\n",
       "      <td>3.358607</td>\n",
       "      <td>171.578394</td>\n",
       "      <td>7.999151</td>\n",
       "    </tr>\n",
       "    <tr>\n",
       "      <th>std</th>\n",
       "      <td>12.988182</td>\n",
       "      <td>41.282743</td>\n",
       "      <td>5.643666e+05</td>\n",
       "      <td>0.255049</td>\n",
       "      <td>18.444933</td>\n",
       "      <td>0.459020</td>\n",
       "      <td>39.356712</td>\n",
       "      <td>1.875885</td>\n",
       "    </tr>\n",
       "    <tr>\n",
       "      <th>min</th>\n",
       "      <td>1.000000</td>\n",
       "      <td>0.000000</td>\n",
       "      <td>2.099862e+05</td>\n",
       "      <td>0.000000</td>\n",
       "      <td>-2.060000</td>\n",
       "      <td>2.472000</td>\n",
       "      <td>126.064000</td>\n",
       "      <td>3.879000</td>\n",
       "    </tr>\n",
       "    <tr>\n",
       "      <th>25%</th>\n",
       "      <td>12.000000</td>\n",
       "      <td>35.000000</td>\n",
       "      <td>5.533501e+05</td>\n",
       "      <td>0.000000</td>\n",
       "      <td>47.460000</td>\n",
       "      <td>2.933000</td>\n",
       "      <td>131.735000</td>\n",
       "      <td>6.891000</td>\n",
       "    </tr>\n",
       "    <tr>\n",
       "      <th>50%</th>\n",
       "      <td>23.000000</td>\n",
       "      <td>71.000000</td>\n",
       "      <td>9.607460e+05</td>\n",
       "      <td>0.000000</td>\n",
       "      <td>62.670000</td>\n",
       "      <td>3.445000</td>\n",
       "      <td>182.616521</td>\n",
       "      <td>7.874000</td>\n",
       "    </tr>\n",
       "    <tr>\n",
       "      <th>75%</th>\n",
       "      <td>34.000000</td>\n",
       "      <td>107.000000</td>\n",
       "      <td>1.420159e+06</td>\n",
       "      <td>0.000000</td>\n",
       "      <td>74.940000</td>\n",
       "      <td>3.735000</td>\n",
       "      <td>212.743293</td>\n",
       "      <td>8.622000</td>\n",
       "    </tr>\n",
       "    <tr>\n",
       "      <th>max</th>\n",
       "      <td>45.000000</td>\n",
       "      <td>142.000000</td>\n",
       "      <td>3.818686e+06</td>\n",
       "      <td>1.000000</td>\n",
       "      <td>100.140000</td>\n",
       "      <td>4.468000</td>\n",
       "      <td>227.232807</td>\n",
       "      <td>14.313000</td>\n",
       "    </tr>\n",
       "  </tbody>\n",
       "</table>\n",
       "</div>"
      ],
      "text/plain": [
       "             Store         Date  Weekly_Sales  Holiday_Flag  Temperature  \\\n",
       "count  6435.000000  6435.000000  6.435000e+03   6435.000000  6435.000000   \n",
       "mean     23.000000    71.000000  1.046965e+06      0.069930    60.663782   \n",
       "std      12.988182    41.282743  5.643666e+05      0.255049    18.444933   \n",
       "min       1.000000     0.000000  2.099862e+05      0.000000    -2.060000   \n",
       "25%      12.000000    35.000000  5.533501e+05      0.000000    47.460000   \n",
       "50%      23.000000    71.000000  9.607460e+05      0.000000    62.670000   \n",
       "75%      34.000000   107.000000  1.420159e+06      0.000000    74.940000   \n",
       "max      45.000000   142.000000  3.818686e+06      1.000000   100.140000   \n",
       "\n",
       "        Fuel_Price          CPI  Unemployment  \n",
       "count  6435.000000  6435.000000   6435.000000  \n",
       "mean      3.358607   171.578394      7.999151  \n",
       "std       0.459020    39.356712      1.875885  \n",
       "min       2.472000   126.064000      3.879000  \n",
       "25%       2.933000   131.735000      6.891000  \n",
       "50%       3.445000   182.616521      7.874000  \n",
       "75%       3.735000   212.743293      8.622000  \n",
       "max       4.468000   227.232807     14.313000  "
      ]
     },
     "execution_count": 9,
     "metadata": {},
     "output_type": "execute_result"
    }
   ],
   "source": [
    "df.describe()"
   ]
  },
  {
   "cell_type": "code",
   "execution_count": null,
   "id": "aabc4a4e",
   "metadata": {},
   "outputs": [],
   "source": []
  },
  {
   "cell_type": "markdown",
   "id": "e7c40cb5",
   "metadata": {},
   "source": [
    "## Outliers  analysis"
   ]
  },
  {
   "cell_type": "code",
   "execution_count": 10,
   "id": "6f02f973",
   "metadata": {},
   "outputs": [
    {
     "data": {
      "image/png": "[encoded data removed]",
      "text/plain": [
       "<Figure size 640x480 with 1 Axes>"
      ]
     },
     "metadata": {},
     "output_type": "display_data"
    },
    {
     "data": {
      "image/png": "[encoded data removed]",
      "text/plain": [
       "<Figure size 640x480 with 1 Axes>"
      ]
     },
     "metadata": {},
     "output_type": "display_data"
    },
    {
     "data": {
      "image/png": "[encoded data removed]",
      "text/plain": [
       "<Figure size 640x480 with 1 Axes>"
      ]
     },
     "metadata": {},
     "output_type": "display_data"
    },
    {
     "data": {
      "image/png": "[encoded data removed]",
      "text/plain": [
       "<Figure size 640x480 with 1 Axes>"
      ]
     },
     "metadata": {},
     "output_type": "display_data"
    },
    {
     "data": {
      "image/png": "[encoded data removed]",
      "text/plain": [
       "<Figure size 640x480 with 1 Axes>"
      ]
     },
     "metadata": {},
     "output_type": "display_data"
    },
    {
     "data": {
      "image/png": "[encoded data removed]",
      "text/plain": [
       "<Figure size 640x480 with 1 Axes>"
      ]
     },
     "metadata": {},
     "output_type": "display_data"
    },
    {
     "data": {
      "image/png": "[encoded data removed]",
      "text/plain": [
       "<Figure size 640x480 with 1 Axes>"
      ]
     },
     "metadata": {},
     "output_type": "display_data"
    },
    {
     "data": {
      "image/png": "[encoded data removed]",
      "text/plain": [
       "<Figure size 640x480 with 1 Axes>"
      ]
     },
     "metadata": {},
     "output_type": "display_data"
    }
   ],
   "source": [
    "for col_name in df.columns:\n",
    "    if (df[col_name].dtype != \"object\"):\n",
    "        plt.boxplot(df[col_name])\n",
    "        plt.xlabel(col_name)\n",
    "        plt.ylabel('count')\n",
    "        plt.show()"
   ]
  },
  {
   "cell_type": "code",
   "execution_count": 11,
   "id": "746dae35",
   "metadata": {},
   "outputs": [],
   "source": [
    "out_cols='Weekly_Sales','Unemployment'"
   ]
  },
  {
   "cell_type": "code",
   "execution_count": 12,
   "id": "124ef243",
   "metadata": {},
   "outputs": [
    {
     "data": {
      "text/plain": [
       "('Weekly_Sales', 'Unemployment')"
      ]
     },
     "execution_count": 12,
     "metadata": {},
     "output_type": "execute_result"
    }
   ],
   "source": [
    "out_cols"
   ]
  },
  {
   "cell_type": "code",
   "execution_count": 13,
   "id": "412e045e",
   "metadata": {},
   "outputs": [],
   "source": [
    "for col in out_cols:\n",
    "    Q1=df[col].quantile(0.25)\n",
    "    Q3=df[col].quantile(0.75)\n",
    "    IQR=Q3-Q1\n",
    "    lower=Q1-1.5*IQR\n",
    "    upper=Q3+1.5*IQR\n",
    "    df=df[(df[col]<=upper) & (df[col]>=lower)]"
   ]
  },
  {
   "cell_type": "code",
   "execution_count": 14,
   "id": "facd05df",
   "metadata": {},
   "outputs": [
    {
     "data": {
      "image/png": "[encoded data removed]",
      "text/plain": [
       "<Figure size 640x480 with 1 Axes>"
      ]
     },
     "metadata": {},
     "output_type": "display_data"
    },
    {
     "data": {
      "image/png": "[encoded data removed]",
      "text/plain": [
       "<Figure size 640x480 with 1 Axes>"
      ]
     },
     "metadata": {},
     "output_type": "display_data"
    },
    {
     "data": {
      "image/png": "[encoded data removed]",
      "text/plain": [
       "<Figure size 640x480 with 1 Axes>"
      ]
     },
     "metadata": {},
     "output_type": "display_data"
    },
    {
     "data": {
      "image/png": "[encoded data removed]",
      "text/plain": [
       "<Figure size 640x480 with 1 Axes>"
      ]
     },
     "metadata": {},
     "output_type": "display_data"
    },
    {
     "data": {
      "image/png": "[encoded data removed]",
      "text/plain": [
       "<Figure size 640x480 with 1 Axes>"
      ]
     },
     "metadata": {},
     "output_type": "display_data"
    },
    {
     "data": {
      "image/png": "[encoded data removed]",
      "text/plain": [
       "<Figure size 640x480 with 1 Axes>"
      ]
     },
     "metadata": {},
     "output_type": "display_data"
    },
    {
     "data": {
      "image/png": "[encoded data removed]",
      "text/plain": [
       "<Figure size 640x480 with 1 Axes>"
      ]
     },
     "metadata": {},
     "output_type": "display_data"
    },
    {
     "data": {
      "image/png": "[encoded data removed]",
      "text/plain": [
       "<Figure size 640x480 with 1 Axes>"
      ]
     },
     "metadata": {},
     "output_type": "display_data"
    }
   ],
   "source": [
    "for col_name in df.columns:\n",
    "    if (df[col_name].dtype != \"object\"):\n",
    "        plt.boxplot(df[col_name])\n",
    "        plt.xlabel(col_name)\n",
    "        plt.ylabel('count')\n",
    "        plt.show()"
   ]
  },
  {
   "cell_type": "code",
   "execution_count": 15,
   "id": "0d3f703b",
   "metadata": {},
   "outputs": [
    {
     "data": {
      "text/html": [
       "<div>\n",
       "<style scoped>\n",
       "    .dataframe tbody tr th:only-of-type {\n",
       "        vertical-align: middle;\n",
       "    }\n",
       "\n",
       "    .dataframe tbody tr th {\n",
       "        vertical-align: top;\n",
       "    }\n",
       "\n",
       "    .dataframe thead th {\n",
       "        text-align: right;\n",
       "    }\n",
       "</style>\n",
       "<table border=\"1\" class=\"dataframe\">\n",
       "  <thead>\n",
       "    <tr style=\"text-align: right;\">\n",
       "      <th></th>\n",
       "      <th>Store</th>\n",
       "      <th>Date</th>\n",
       "      <th>Weekly_Sales</th>\n",
       "      <th>Holiday_Flag</th>\n",
       "      <th>Temperature</th>\n",
       "      <th>Fuel_Price</th>\n",
       "      <th>CPI</th>\n",
       "      <th>Unemployment</th>\n",
       "    </tr>\n",
       "  </thead>\n",
       "  <tbody>\n",
       "    <tr>\n",
       "      <th>Store</th>\n",
       "      <td>1.000000</td>\n",
       "      <td>0.004212</td>\n",
       "      <td>-0.319128</td>\n",
       "      <td>0.004353</td>\n",
       "      <td>-0.026186</td>\n",
       "      <td>0.047717</td>\n",
       "      <td>-0.208596</td>\n",
       "      <td>0.309445</td>\n",
       "    </tr>\n",
       "    <tr>\n",
       "      <th>Date</th>\n",
       "      <td>0.004212</td>\n",
       "      <td>1.000000</td>\n",
       "      <td>-0.030639</td>\n",
       "      <td>0.040960</td>\n",
       "      <td>0.038248</td>\n",
       "      <td>0.027876</td>\n",
       "      <td>0.004032</td>\n",
       "      <td>0.000148</td>\n",
       "    </tr>\n",
       "    <tr>\n",
       "      <th>Weekly_Sales</th>\n",
       "      <td>-0.319128</td>\n",
       "      <td>-0.030639</td>\n",
       "      <td>1.000000</td>\n",
       "      <td>0.024442</td>\n",
       "      <td>-0.040918</td>\n",
       "      <td>0.019767</td>\n",
       "      <td>-0.082957</td>\n",
       "      <td>-0.073227</td>\n",
       "    </tr>\n",
       "    <tr>\n",
       "      <th>Holiday_Flag</th>\n",
       "      <td>0.004353</td>\n",
       "      <td>0.040960</td>\n",
       "      <td>0.024442</td>\n",
       "      <td>1.000000</td>\n",
       "      <td>-0.156403</td>\n",
       "      <td>-0.076429</td>\n",
       "      <td>-0.000364</td>\n",
       "      <td>0.011014</td>\n",
       "    </tr>\n",
       "    <tr>\n",
       "      <th>Temperature</th>\n",
       "      <td>-0.026186</td>\n",
       "      <td>0.038248</td>\n",
       "      <td>-0.040918</td>\n",
       "      <td>-0.156403</td>\n",
       "      <td>1.000000</td>\n",
       "      <td>0.145789</td>\n",
       "      <td>0.218164</td>\n",
       "      <td>0.023905</td>\n",
       "    </tr>\n",
       "    <tr>\n",
       "      <th>Fuel_Price</th>\n",
       "      <td>0.047717</td>\n",
       "      <td>0.027876</td>\n",
       "      <td>0.019767</td>\n",
       "      <td>-0.076429</td>\n",
       "      <td>0.145789</td>\n",
       "      <td>1.000000</td>\n",
       "      <td>-0.144272</td>\n",
       "      <td>-0.105187</td>\n",
       "    </tr>\n",
       "    <tr>\n",
       "      <th>CPI</th>\n",
       "      <td>-0.208596</td>\n",
       "      <td>0.004032</td>\n",
       "      <td>-0.082957</td>\n",
       "      <td>-0.000364</td>\n",
       "      <td>0.218164</td>\n",
       "      <td>-0.144272</td>\n",
       "      <td>1.000000</td>\n",
       "      <td>-0.218764</td>\n",
       "    </tr>\n",
       "    <tr>\n",
       "      <th>Unemployment</th>\n",
       "      <td>0.309445</td>\n",
       "      <td>0.000148</td>\n",
       "      <td>-0.073227</td>\n",
       "      <td>0.011014</td>\n",
       "      <td>0.023905</td>\n",
       "      <td>-0.105187</td>\n",
       "      <td>-0.218764</td>\n",
       "      <td>1.000000</td>\n",
       "    </tr>\n",
       "  </tbody>\n",
       "</table>\n",
       "</div>"
      ],
      "text/plain": [
       "                 Store      Date  Weekly_Sales  Holiday_Flag  Temperature  \\\n",
       "Store         1.000000  0.004212     -0.319128      0.004353    -0.026186   \n",
       "Date          0.004212  1.000000     -0.030639      0.040960     0.038248   \n",
       "Weekly_Sales -0.319128 -0.030639      1.000000      0.024442    -0.040918   \n",
       "Holiday_Flag  0.004353  0.040960      0.024442      1.000000    -0.156403   \n",
       "Temperature  -0.026186  0.038248     -0.040918     -0.156403     1.000000   \n",
       "Fuel_Price    0.047717  0.027876      0.019767     -0.076429     0.145789   \n",
       "CPI          -0.208596  0.004032     -0.082957     -0.000364     0.218164   \n",
       "Unemployment  0.309445  0.000148     -0.073227      0.011014     0.023905   \n",
       "\n",
       "              Fuel_Price       CPI  Unemployment  \n",
       "Store           0.047717 -0.208596      0.309445  \n",
       "Date            0.027876  0.004032      0.000148  \n",
       "Weekly_Sales    0.019767 -0.082957     -0.073227  \n",
       "Holiday_Flag   -0.076429 -0.000364      0.011014  \n",
       "Temperature     0.145789  0.218164      0.023905  \n",
       "Fuel_Price      1.000000 -0.144272     -0.105187  \n",
       "CPI            -0.144272  1.000000     -0.218764  \n",
       "Unemployment   -0.105187 -0.218764      1.000000  "
      ]
     },
     "execution_count": 15,
     "metadata": {},
     "output_type": "execute_result"
    }
   ],
   "source": [
    "df.corr()"
   ]
  },
  {
   "cell_type": "code",
   "execution_count": null,
   "id": "3a335f3d",
   "metadata": {},
   "outputs": [],
   "source": [
    "plt.figure(figsize=(5,5))\n",
    "\n",
    "df.plot(kind='bar')"
   ]
  },
  {
   "cell_type": "code",
   "execution_count": null,
   "id": "1f056e17",
   "metadata": {},
   "outputs": [],
   "source": [
    "df.head()"
   ]
  },
  {
   "cell_type": "code",
   "execution_count": null,
   "id": "31809e64",
   "metadata": {},
   "outputs": [],
   "source": []
  },
  {
   "cell_type": "code",
   "execution_count": null,
   "id": "ca7f77ca",
   "metadata": {},
   "outputs": [],
   "source": [
    "#a. If the weekly sales are affected by the unemployment rate, if yes - which storesare suffering the most?"
   ]
  },
  {
   "cell_type": "code",
   "execution_count": null,
   "id": "b97f07c2",
   "metadata": {},
   "outputs": [],
   "source": [
    "df['Weekly_Sales'].groupby(df['Store']).sum().sort_values()\n",
    "#t=df.groupby('Store')['Weekly_Sales'].sum().sort_values() \n"
   ]
  },
  {
   "cell_type": "code",
   "execution_count": null,
   "id": "fa1b6471",
   "metadata": {},
   "outputs": [],
   "source": [
    "\n"
   ]
  },
  {
   "cell_type": "code",
   "execution_count": null,
   "id": "f3fce2a2",
   "metadata": {},
   "outputs": [],
   "source": []
  },
  {
   "cell_type": "code",
   "execution_count": null,
   "id": "a7982871",
   "metadata": {},
   "outputs": [],
   "source": [
    "#total_sales= walmart_data.groupby('Store')['Weekly_Sales'].sum().sort_values() \n",
    "t=df.groupby('Store')['Weekly_Sales'].sum().sort_values() \n",
    "t_array = np.array(t)"
   ]
  },
  {
   "cell_type": "code",
   "execution_count": null,
   "id": "c185db8c",
   "metadata": {},
   "outputs": [],
   "source": [
    "plt.figure(figsize=(15,7))\n",
    "\n",
    "t.plot(kind='bar')\n"
   ]
  },
  {
   "cell_type": "code",
   "execution_count": null,
   "id": "3d8a5ed9",
   "metadata": {},
   "outputs": [],
   "source": [
    "#a. If the weekly sales are affected by the unemployment rate, if yes - which storesare suffering the most?"
   ]
  },
  {
   "cell_type": "code",
   "execution_count": null,
   "id": "5907d077",
   "metadata": {},
   "outputs": [],
   "source": [
    "# b. If the weekly sales show a seasonal trend, when and what could be the reason?\n",
    "\n",
    "There is no seasonal trend in \n",
    "\n",
    "   "
   ]
  },
  {
   "cell_type": "code",
   "execution_count": null,
   "id": "19bf7a0f",
   "metadata": {},
   "outputs": [],
   "source": [
    "#c. Does temperature affect the weekly sales in any manner?"
   ]
  },
  {
   "cell_type": "code",
   "execution_count": null,
   "id": "6156ce0b",
   "metadata": {},
   "outputs": [],
   "source": [
    "# d. How is the Consumer Price index affecting the weekly sales of various stores?\n"
   ]
  },
  {
   "cell_type": "code",
   "execution_count": null,
   "id": "53f46f8d",
   "metadata": {},
   "outputs": [
    {
     "data": {
      "text/plain": [
       "<Axes: xlabel='Weekly_Sales', ylabel='Unemployment'>"
      ]
     },
     "execution_count": 39,
     "metadata": {},
     "output_type": "execute_result"
    }
   ],
   "source": [
    "#sns.barplot(data =df)\n",
    "sns.barplot(data=df, x=\"Weekly_Sales\", y=\"Unemployment\", hue=\"Store\")\n"
   ]
  },
  {
   "cell_type": "markdown",
   "id": "31948db5",
   "metadata": {},
   "source": [
    "# a. If the weekly sales are affected by the unemployment rate, if yes - which stores are suffering the most?"
   ]
  },
  {
   "cell_type": "code",
   "execution_count": null,
   "id": "bb833953",
   "metadata": {},
   "outputs": [],
   "source": [
    "# e. Top performing stores according to the historical data. 20\n"
   ]
  },
  {
   "cell_type": "code",
   "execution_count": null,
   "id": "ab084abf",
   "metadata": {},
   "outputs": [],
   "source": []
  },
  {
   "cell_type": "code",
   "execution_count": null,
   "id": "1742ad3a",
   "metadata": {},
   "outputs": [],
   "source": []
  },
  {
   "cell_type": "code",
   "execution_count": null,
   "id": "febbf3df",
   "metadata": {
    "scrolled": true
   },
   "outputs": [],
   "source": [
    "fig=plt.figure(figsize=(10,10))\n",
    "sns.barplot(x =\"Weekly_Sales\",y = \"Store\",data =df ,hue=\"Store\")\n",
    "#sns.barplot(x=data1['cylinders'],y=data1['mpg'], data = data1, hue=data1['brand'])\n",
    "sns.despine(fig)\n",
    "#sns.barplot(data=df)\n",
    "#plt.barplot(data=df, hue=df['Store'])\n",
    "#sns.barplot(x=df[''],y=data1['mpg'], data = data1, hue=data1['brand'])\n",
    "#sns.barplot(dat"
   ]
  },
  {
   "cell_type": "code",
   "execution_count": null,
   "id": "0d18f410",
   "metadata": {},
   "outputs": [],
   "source": []
  },
  {
   "cell_type": "code",
   "execution_count": null,
   "id": "b7094e98",
   "metadata": {},
   "outputs": [],
   "source": [
    "#plt.bar(data=df,,height=10)\n",
    "#plt.show()"
   ]
  },
  {
   "cell_type": "code",
   "execution_count": null,
   "id": "9c345f94",
   "metadata": {},
   "outputs": [],
   "source": []
  },
  {
   "cell_type": "code",
   "execution_count": null,
   "id": "7423a2db",
   "metadata": {},
   "outputs": [],
   "source": [
    "fig = plt.figsize =(20,10)\n",
    "sns.barplot(x=df['Weekly_Sales'],y=df['Unemployment'], data = df, hue=df['Store'])\n"
   ]
  },
  {
   "cell_type": "code",
   "execution_count": null,
   "id": "93c2dc7e",
   "metadata": {},
   "outputs": [],
   "source": []
  },
  {
   "cell_type": "code",
   "execution_count": null,
   "id": "b3e347ef",
   "metadata": {},
   "outputs": [],
   "source": []
  },
  {
   "cell_type": "code",
   "execution_count": null,
   "id": "54ea5f49",
   "metadata": {},
   "outputs": [],
   "source": []
  }
 ],
 "metadata": {
  "kernelspec": {
   "display_name": "Python 3 (ipykernel)",
   "language": "python",
   "name": "python3"
  },
  "language_info": {
   "codemirror_mode": {
    "name": "ipython",
    "version": 3
   },
   "file_extension": ".py",
   "mimetype": "text/x-python",
   "name": "python",
   "nbconvert_exporter": "python",
   "pygments_lexer": "ipython3",
   "version": "3.11.4"
  }
 },
 "nbformat": 4,
 "nbformat_minor": 5
}
